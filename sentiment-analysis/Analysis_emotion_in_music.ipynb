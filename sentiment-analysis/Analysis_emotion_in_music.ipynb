{
 "cells": [
  {
   "cell_type": "markdown",
   "metadata": {},
   "source": [
    "## Importing Libraries"
   ]
  },
  {
   "cell_type": "code",
   "execution_count": 1,
   "metadata": {},
   "outputs": [
    {
     "name": "stderr",
     "output_type": "stream",
     "text": [
      "Using TensorFlow backend.\n"
     ]
    }
   ],
   "source": [
    "# feature extractoring and preprocessing data\n",
    "import librosa\n",
    "import pandas as pd\n",
    "import numpy as np\n",
    "import matplotlib.pyplot as plt\n",
    "%matplotlib inline\n",
    "import os\n",
    "from PIL import Image\n",
    "import pathlib\n",
    "import csv\n",
    "\n",
    "# Preprocessing\n",
    "from sklearn.model_selection import train_test_split\n",
    "from sklearn.preprocessing import LabelEncoder, StandardScaler\n",
    "\n",
    "#Keras\n",
    "import keras\n",
    "\n",
    "import warnings\n",
    "warnings.filterwarnings('ignore')"
   ]
  },
  {
   "cell_type": "code",
   "execution_count": null,
   "metadata": {},
   "outputs": [],
   "source": [
    "# 음악파일 하나만 값 출력\n",
    "import librosa\n",
    "import librosa.display\n",
    "audio_path = 'C:/Users/YOU-DB/Desktop/DEAM_audio/MEMD_audio/2.mp3'\n",
    "x , sr = librosa.load(audio_path)\n",
    "plt.figure(figsize=(14, 5))\n",
    "librosa.display.waveplot(x, sr=sr)"
   ]
  },
  {
   "cell_type": "code",
   "execution_count": null,
   "metadata": {
    "scrolled": true
   },
   "outputs": [],
   "source": [
    "#음악파일 시각화\n",
    "cmap = plt.get_cmap('inferno')\n",
    "i=1\n",
    "plt.figure(figsize=(10,10))\n",
    "for filename in os.listdir(f'C:/Users/YOU-DB/Desktop/DEAM_audio/MEMD_audio'):\n",
    "    songname = f'C:/Users/YOU-DB/Desktop/DEAM_audio/MEMD_audio/{filename}'\n",
    "    y, sr = librosa.load(songname, mono=True, duration=5)\n",
    "    plt.specgram(y, NFFT=2048, Fs=2, Fc=0, noverlap=128, cmap=cmap, sides='default', mode='default', scale='dB');\n",
    "    plt.axis('off');\n",
    "    plt.savefig(f'img_data/{filename[:-3].replace(\".\", \"\")}.png')\n",
    "    plt.clf()"
   ]
  },
  {
   "cell_type": "code",
   "execution_count": 2,
   "metadata": {
    "scrolled": true
   },
   "outputs": [
    {
     "name": "stdout",
     "output_type": "stream",
     "text": [
      "10.csv 1000.csv 1001.csv 1002.csv 1003.csv 1004.csv 1005.csv 1006.csv 1007.csv 1008.csv 1009.csv 101.csv 1010.csv 1011.csv 1012.csv 1013.csv 1014.csv 1015.csv 1016.csv 1017.csv 1018.csv 1019.csv 102.csv 1020.csv 1021.csv 1022.csv 1023.csv 1024.csv 1025.csv 1026.csv 1027.csv 1028.csv 1029.csv 103.csv 1030.csv 1031.csv 1032.csv 1033.csv 1034.csv 1035.csv 1036.csv 1037.csv 1038.csv 1039.csv 104.csv 1040.csv 1041.csv 1042.csv 1043.csv 1044.csv 1045.csv 1046.csv 1047.csv 1048.csv 1049.csv 105.csv 1050.csv 1051.csv 1052.csv 1053.csv 1054.csv 1055.csv 1056.csv 1057.csv 1058.csv 1059.csv 106.csv 1060.csv 1061.csv 1062.csv 1063.csv 1064.csv 1065.csv 1066.csv 1067.csv 1068.csv 1069.csv 107.csv 1070.csv 1071.csv 1072.csv 1073.csv 1074.csv 1075.csv 1076.csv 1077.csv 1078.csv 1079.csv 108.csv 1080.csv 1081.csv 1082.csv 1083.csv 1084.csv 1085.csv 1086.csv 1087.csv 1088.csv 1089.csv 109.csv 1090.csv 1091.csv 1092.csv 1093.csv 1094.csv 1095.csv 1096.csv 1097.csv 1098.csv 1099.csv 110.csv 1100.csv 1101.csv 1102.csv 1103.csv 1104.csv 1105.csv 1106.csv 1107.csv 1108.csv 1109.csv 111.csv 1110.csv 1111.csv 1112.csv 1113.csv 1114.csv 1115.csv 1116.csv 1117.csv 1118.csv 1119.csv 112.csv 1120.csv 1121.csv 1122.csv 1123.csv 1124.csv 1125.csv 1126.csv 1127.csv 1128.csv 1129.csv 113.csv 1130.csv 1131.csv 1132.csv 1133.csv 1134.csv 1135.csv 1136.csv 1137.csv 1138.csv 1139.csv 114.csv 1140.csv 1141.csv 1142.csv 1143.csv 1144.csv 1145.csv 1146.csv 1147.csv 1148.csv 1149.csv 115.csv 1150.csv 1151.csv 1152.csv 1153.csv 1154.csv 1155.csv 1156.csv 1157.csv 1158.csv 1159.csv 116.csv 1160.csv 1161.csv 1162.csv 1163.csv 1164.csv 1165.csv 1166.csv 1167.csv 1168.csv 1169.csv 117.csv 1170.csv 1171.csv 1172.csv 1173.csv 1174.csv 1175.csv 1176.csv 1177.csv 1178.csv 1179.csv 118.csv 1180.csv 1181.csv 1182.csv 1183.csv 1184.csv 1185.csv 1186.csv 1187.csv 1188.csv 1189.csv 119.csv 1190.csv 1191.csv 1192.csv 1193.csv 1194.csv 1195.csv 1196.csv 1197.csv 1198.csv 1199.csv 12.csv 120.csv 1200.csv 1201.csv 1202.csv 1203.csv 1204.csv 1205.csv 1206.csv 1207.csv 1208.csv 1209.csv 121.csv 1210.csv 1211.csv 1212.csv 1213.csv 1214.csv 1215.csv 1216.csv 1217.csv 1218.csv 1219.csv 122.csv 1220.csv 1221.csv 1222.csv 1223.csv 1224.csv 1225.csv 1226.csv 1227.csv 1228.csv 1229.csv 123.csv 1230.csv 1231.csv 1232.csv 1233.csv 1234.csv 1235.csv 1236.csv 1237.csv 1238.csv 1239.csv 124.csv 1240.csv 1241.csv 1242.csv 1243.csv 1244.csv 1245.csv 1246.csv 1247.csv 1248.csv 1249.csv 125.csv 1250.csv 1251.csv 1252.csv 1253.csv 1254.csv 1255.csv 1256.csv 1257.csv 1258.csv 1259.csv 126.csv 1260.csv 1261.csv 1262.csv 1263.csv 1264.csv 1265.csv 1266.csv 1267.csv 1268.csv 1269.csv 127.csv 1270.csv 1271.csv 1272.csv 1273.csv 1274.csv 1275.csv 1276.csv 1277.csv 1278.csv 1279.csv 128.csv 1280.csv 1281.csv 1282.csv 1283.csv 1284.csv 1285.csv 1286.csv 1287.csv 1288.csv 1289.csv 129.csv 1290.csv 1291.csv 1292.csv 1293.csv 1294.csv 1295.csv 1296.csv 1297.csv 1298.csv 1299.csv 13.csv 130.csv 1300.csv 1301.csv 1302.csv 1303.csv 1304.csv 1305.csv 1306.csv 1307.csv 1308.csv 1309.csv 131.csv 1310.csv 1311.csv 1312.csv 1313.csv 1314.csv 1315.csv 1316.csv 1317.csv 1318.csv 1319.csv 1320.csv 1321.csv 1322.csv 1323.csv 1324.csv 1325.csv 1326.csv 1327.csv 1328.csv 1329.csv 133.csv 1330.csv 1331.csv 1332.csv 1333.csv 1334.csv 1335.csv 1336.csv 1337.csv 1338.csv 1339.csv 134.csv 1340.csv 1341.csv 1342.csv 1343.csv 1344.csv 1345.csv 1346.csv 1347.csv 1348.csv 1349.csv 135.csv 1350.csv 1351.csv 1352.csv 1353.csv 1354.csv 1355.csv 1356.csv 1357.csv 1358.csv 1359.csv 136.csv 1360.csv 1361.csv 1362.csv 1363.csv 1364.csv 1365.csv 1366.csv 1367.csv 1368.csv 1369.csv 137.csv 1370.csv 1371.csv 1372.csv 1373.csv 1374.csv 1375.csv 1376.csv 1377.csv 1378.csv 1379.csv 138.csv 1380.csv 1381.csv 1382.csv 1383.csv 1384.csv 1385.csv 1386.csv 1387.csv 1388.csv 1389.csv 1390.csv 1391.csv 1392.csv 1393.csv 1394.csv 1395.csv 1396.csv 1397.csv 1398.csv 1399.csv 140.csv 1400.csv 1401.csv 1402.csv 1403.csv 1404.csv 1405.csv 1406.csv 1407.csv 1408.csv 1409.csv 1410.csv 1411.csv 1412.csv 1413.csv 1414.csv 1415.csv 1416.csv 1417.csv 1418.csv 1419.csv 142.csv 1420.csv 1421.csv 1422.csv 1423.csv 1424.csv 1425.csv 1426.csv 1427.csv 1428.csv 1429.csv 143.csv 1430.csv 1431.csv 1432.csv 1433.csv 1434.csv 1435.csv 1436.csv 1437.csv 1438.csv 1439.csv 144.csv 1440.csv 1441.csv 1442.csv 1443.csv 1444.csv 1445.csv 1446.csv 1447.csv 1448.csv 1449.csv 145.csv 1450.csv 1451.csv 1452.csv 1453.csv 1454.csv 1455.csv 1456.csv 1457.csv 1458.csv 1459.csv 146.csv 1460.csv 1461.csv 1462.csv 1463.csv 1464.csv 1465.csv 1466.csv 1467.csv 1468.csv 1469.csv 1470.csv 1471.csv 1472.csv 1473.csv 1474.csv 1475.csv 1476.csv 1477.csv 1478.csv 1479.csv 148.csv 1480.csv 1481.csv 1482.csv 1483.csv 1484.csv 1485.csv 1486.csv 1487.csv 1488.csv 1489.csv 149.csv 1490.csv 1491.csv 1492.csv 1493.csv 1494.csv 1495.csv 1496.csv 1497.csv 1498.csv 1499.csv 150.csv 1500.csv 1501.csv 1502.csv 1503.csv 1504.csv 1505.csv 1506.csv 1507.csv 1508.csv 1509.csv 151.csv 1510.csv 1511.csv 1512.csv 1513.csv 1514.csv 1515.csv 1516.csv 1517.csv 1518.csv 1519.csv 152.csv 1520.csv 1521.csv 1522.csv 1523.csv 1524.csv 1525.csv 1526.csv 1527.csv 1528.csv 1529.csv 153.csv 1530.csv 1531.csv 1532.csv 1533.csv 1534.csv 1535.csv 1536.csv 1537.csv 1538.csv 1539.csv 154.csv 1540.csv 1541.csv 1542.csv 1543.csv 1544.csv 1545.csv 1546.csv 1547.csv 1548.csv 1549.csv 155.csv 1550.csv 1551.csv 1552.csv 1553.csv 1554.csv 1555.csv 1556.csv 1557.csv 1558.csv 1559.csv 156.csv 1560.csv 1561.csv 1562.csv 1563.csv 1564.csv 1565.csv 1566.csv 1567.csv 1568.csv 1569.csv 157.csv 1570.csv 1571.csv 1572.csv 1573.csv 1574.csv 1575.csv 1576.csv 1577.csv 1578.csv 1579.csv 158.csv 1580.csv 1581.csv 1582.csv 1583.csv 1584.csv 1585.csv 1586.csv 1587.csv 1588.csv 1589.csv 159.csv 1590.csv 1591.csv 1592.csv 1593.csv 1594.csv 1595.csv 1596.csv 1597.csv 1598.csv 1599.csv 160.csv 1600.csv 1601.csv 1602.csv 1603.csv 1604.csv 1605.csv 1606.csv 1607.csv 1608.csv 1609.csv 161.csv 1610.csv 1611.csv 1612.csv 1613.csv 1614.csv 1615.csv 1616.csv 1617.csv 1618.csv 1619.csv 162.csv 1620.csv 1621.csv 1622.csv 1623.csv 1624.csv 1625.csv 1626.csv 1627.csv 1628.csv 1629.csv 163.csv 1630.csv 1631.csv 1632.csv 1633.csv 1634.csv 1635.csv 1636.csv 1637.csv 1638.csv 1639.csv 164.csv 1640.csv 1641.csv 1642.csv 1643.csv 1644.csv 1645.csv 1646.csv 1647.csv 1648.csv 1649.csv 1650.csv 1651.csv 1652.csv 1653.csv 1654.csv 1655.csv 1656.csv 1657.csv 1658.csv 1659.csv 166.csv 1660.csv 1661.csv 1662.csv 1663.csv 1664.csv 1665.csv 1666.csv 1667.csv 1668.csv 1669.csv 167.csv 1670.csv 1671.csv 1672.csv 1673.csv 1674.csv 1675.csv 1676.csv 1677.csv 1678.csv 1679.csv 168.csv 1680.csv 1681.csv 1682.csv 1683.csv 1684.csv 1685.csv 1686.csv 1687.csv 1688.csv 1689.csv 169.csv 1690.csv 1691.csv 1692.csv 1693.csv 1694.csv 1695.csv 1696.csv 1697.csv 1698.csv 1699.csv 17.csv 170.csv 1700.csv 1701.csv 1702.csv 1703.csv 1704.csv 1705.csv 1706.csv 1707.csv 1708.csv 1709.csv 171.csv 1710.csv 1711.csv 1712.csv 1713.csv 1714.csv 1715.csv 1716.csv 1717.csv 1718.csv 1719.csv 172.csv 1720.csv 1721.csv 1722.csv 1723.csv 1724.csv 1725.csv 1726.csv 1727.csv 1728.csv 1729.csv 173.csv 1730.csv 1731.csv 1732.csv 1733.csv 1734.csv 1735.csv 1736.csv 1737.csv 1738.csv 1739.csv 174.csv 1740.csv 1741.csv 1742.csv 1743.csv 1744.csv 1745.csv 1746.csv 1747.csv 1748.csv 1749.csv 175.csv 1750.csv 1751.csv 1752.csv 1753.csv 1754.csv 1755.csv 1756.csv 1757.csv 1758.csv 1759.csv 176.csv 1760.csv 1761.csv 1762.csv 1763.csv 1764.csv 1765.csv 1766.csv 1767.csv 1768.csv 1769.csv 177.csv 1770.csv 1771.csv 1772.csv 1773.csv 1774.csv 1775.csv 1776.csv 1777.csv 1778.csv 1779.csv 178.csv 1780.csv 1781.csv 1782.csv 1783.csv 1784.csv 1785.csv 1786.csv 1787.csv 1788.csv 1789.csv 179.csv 1790.csv 1791.csv 1792.csv 1793.csv 1794.csv 1795.csv 1796.csv 1797.csv 1798.csv 1799.csv 18.csv 180.csv 1800.csv 1801.csv 1802.csv 1803.csv 1804.csv 1805.csv 1806.csv 1807.csv 1808.csv 1809.csv 181.csv 1810.csv 1811.csv 1812.csv 1813.csv 1814.csv 1815.csv 1816.csv 1817.csv 1818.csv 1819.csv 182.csv 1820.csv 1821.csv 1822.csv 1823.csv 1824.csv 1825.csv 1826.csv 1827.csv 1828.csv 1829.csv 1830.csv 1831.csv 1832.csv 1833.csv 1834.csv 1835.csv 1836.csv 1837.csv 1838.csv"
     ]
    },
    {
     "name": "stdout",
     "output_type": "stream",
     "text": [
      " 1839.csv 184.csv 1840.csv 1841.csv 1842.csv 1843.csv 1844.csv 1845.csv 1846.csv 1847.csv 1848.csv 1849.csv 185.csv 1850.csv 1851.csv 1852.csv 1853.csv 1854.csv 1855.csv 1856.csv 1857.csv 1858.csv 1859.csv 186.csv 1860.csv 1861.csv 1862.csv 1863.csv 1864.csv 1865.csv 1866.csv 1867.csv 1868.csv 1869.csv 187.csv 1870.csv 1871.csv 1872.csv 1873.csv 1874.csv 1875.csv 1876.csv 1877.csv 1878.csv 1879.csv 188.csv 1880.csv 1881.csv 1882.csv 1883.csv 1884.csv 1885.csv 1886.csv 1887.csv 1888.csv 1889.csv 189.csv 1890.csv 1891.csv 1892.csv 1893.csv 1894.csv 1895.csv 1896.csv 1897.csv 1898.csv 1899.csv 19.csv 190.csv 1900.csv 1901.csv 1902.csv 1903.csv 1904.csv 1905.csv 1906.csv 1907.csv 1908.csv 1909.csv 191.csv 1910.csv 1911.csv 1912.csv 1913.csv 1914.csv 1915.csv 1916.csv 1917.csv 1918.csv 1919.csv 192.csv 1920.csv 1921.csv 1922.csv 1923.csv 1924.csv 1925.csv 1926.csv 1927.csv 1928.csv 1929.csv 193.csv 1930.csv 1931.csv 1932.csv 1933.csv 1934.csv 1935.csv 1936.csv 1937.csv 1938.csv 1939.csv 194.csv 1940.csv 1941.csv 1942.csv 1943.csv 1944.csv 1945.csv 1946.csv 1947.csv 1948.csv 1949.csv 195.csv 1950.csv 1951.csv 1952.csv 1953.csv 1954.csv 1955.csv 1956.csv 1957.csv 1958.csv 1959.csv 196.csv 1960.csv 1961.csv 1962.csv 1963.csv 1964.csv 1965.csv 1966.csv 1967.csv 1968.csv 1969.csv 197.csv 1970.csv 1971.csv 1972.csv 1973.csv 1974.csv 1975.csv 1976.csv 1977.csv 1978.csv 1979.csv 198.csv 1980.csv 1981.csv 1982.csv 1983.csv 1984.csv 1985.csv 1986.csv 1987.csv 1988.csv 1989.csv 199.csv 1990.csv 1991.csv 1992.csv 1993.csv 1994.csv 1995.csv 1996.csv 1997.csv 1998.csv 1999.csv 2.csv 20.csv 2000.csv 2001.csv 2002.csv 2003.csv 2004.csv 2005.csv 2006.csv 2007.csv 2008.csv 2009.csv 201.csv 2010.csv 2011.csv 2012.csv 2013.csv 2014.csv 2015.csv 2016.csv 2017.csv 2018.csv 2019.csv 202.csv 2020.csv 2021.csv 2022.csv 2023.csv 2024.csv 2025.csv 2026.csv 2027.csv 2028.csv 2029.csv 203.csv 2030.csv 2031.csv 2032.csv 2033.csv 2034.csv 2035.csv 2036.csv 2037.csv 2038.csv 2039.csv 204.csv 2040.csv 2041.csv 2042.csv 2043.csv 2044.csv 2045.csv 2046.csv 2047.csv 2048.csv 2049.csv 205.csv 2050.csv 2051.csv 2052.csv 2053.csv 2054.csv 2055.csv 2056.csv 2057.csv 2058.csv 206.csv 207.csv 208.csv 209.csv 21.csv 210.csv 211.csv 212.csv 213.csv 214.csv 215.csv 216.csv 217.csv 218.csv 219.csv 22.csv 220.csv 221.csv 222.csv 223.csv 224.csv 225.csv 226.csv 227.csv 228.csv 229.csv 231.csv 232.csv 233.csv 234.csv 235.csv 236.csv 237.csv 238.csv 239.csv 24.csv 240.csv 241.csv 242.csv 243.csv 244.csv 245.csv 246.csv 247.csv 248.csv 25.csv 250.csv 253.csv 254.csv 257.csv 258.csv 260.csv 262.csv 264.csv 265.csv 266.csv 269.csv 270.csv 272.csv 273.csv 274.csv 275.csv 276.csv 278.csv 279.csv 280.csv 281.csv 282.csv 284.csv 285.csv 286.csv 288.csv 289.csv 290.csv 292.csv 293.csv 294.csv 296.csv 297.csv 298.csv 299.csv 3.csv 300.csv 301.csv 302.csv 303.csv 304.csv 305.csv 306.csv 307.csv 308.csv 309.csv 31.csv 310.csv 311.csv 312.csv 313.csv 314.csv 315.csv 316.csv 317.csv 318.csv 319.csv 32.csv 320.csv 321.csv 322.csv 323.csv 324.csv 325.csv 326.csv 327.csv 328.csv 329.csv 330.csv 332.csv 333.csv 334.csv 335.csv 336.csv 338.csv 339.csv 340.csv 341.csv 342.csv 343.csv 344.csv 345.csv 346.csv 347.csv 348.csv 349.csv 35.csv 350.csv 352.csv 353.csv 354.csv 355.csv 356.csv 357.csv 358.csv 359.csv 360.csv 361.csv 362.csv 364.csv 365.csv 366.csv 367.csv 368.csv 369.csv 37.csv 370.csv 371.csv 372.csv 374.csv 375.csv 376.csv 378.csv 379.csv 380.csv 381.csv 383.csv 384.csv 386.csv 387.csv 39.csv 390.csv 391.csv 392.csv 393.csv 395.csv 397.csv 399.csv 4.csv 40.csv 400.csv 401.csv 402.csv 403.csv 404.csv 405.csv 406.csv 407.csv 408.csv 41.csv 410.csv 415.csv 416.csv 419.csv 42.csv 420.csv 422.csv 423.csv 425.csv 426.csv 427.csv 428.csv 429.csv 43.csv 430.csv 431.csv 432.csv 435.csv 436.csv 437.csv 44.csv 440.csv 441.csv 442.csv 444.csv 445.csv 448.csv 449.csv 45.csv 450.csv 451.csv 452.csv 453.csv 454.csv 455.csv 456.csv 458.csv 459.csv 46.csv 460.csv 461.csv 462.csv 463.csv 464.csv 466.csv 467.csv 468.csv 469.csv 47.csv 472.csv 473.csv 475.csv 477.csv 478.csv 479.csv 48.csv 480.csv 481.csv 482.csv 484.csv 485.csv 486.csv 487.csv 488.csv 489.csv 49.csv 490.csv 492.csv 493.csv 494.csv 496.csv 497.csv 498.csv 499.csv 5.csv 50.csv 500.csv 501.csv 502.csv 503.csv 504.csv 506.csv 507.csv 51.csv 512.csv 513.csv 514.csv 515.csv 518.csv 519.csv 52.csv 520.csv 521.csv 522.csv 523.csv 524.csv 525.csv 527.csv 529.csv 53.csv 530.csv 535.csv 536.csv 537.csv 54.csv 540.csv 544.csv 547.csv 55.csv 550.csv 551.csv 554.csv 555.csv 556.csv 558.csv 56.csv 560.csv 561.csv 564.csv 565.csv 568.csv 574.csv 577.csv 579.csv 58.csv 580.csv 581.csv 582.csv 584.csv 585.csv 586.csv 59.csv 591.csv 592.csv 594.csv 597.csv 598.csv 60.csv 600.csv 605.csv 606.csv 607.csv 608.csv 609.csv 610.csv 611.csv 612.csv 613.csv 614.csv 615.csv 616.csv 617.csv 62.csv 620.csv 621.csv 622.csv 623.csv 625.csv 628.csv 629.csv 631.csv 632.csv 634.csv 635.csv 637.csv 638.csv 639.csv 64.csv 640.csv 643.csv 644.csv 645.csv 646.csv 647.csv 648.csv 649.csv 65.csv 650.csv 651.csv 652.csv 653.csv 654.csv 656.csv 657.csv 658.csv 660.csv 661.csv 662.csv 663.csv 664.csv 665.csv 666.csv 667.csv 668.csv 67.csv 671.csv 672.csv 673.csv 674.csv 675.csv 676.csv 677.csv 68.csv 681.csv 682.csv 684.csv 685.csv 686.csv 687.csv 688.csv 689.csv 69.csv 690.csv 691.csv 692.csv 693.csv 695.csv 696.csv 697.csv 698.csv 699.csv 7.csv 70.csv 700.csv 702.csv 703.csv 704.csv 706.csv 707.csv 708.csv 709.csv 71.csv 710.csv 711.csv 712.csv 713.csv 714.csv 715.csv 717.csv 718.csv 719.csv 72.csv 721.csv 722.csv 723.csv 724.csv 725.csv 726.csv 727.csv 728.csv 729.csv 73.csv 730.csv 731.csv 732.csv 733.csv 734.csv 735.csv 736.csv 737.csv 738.csv 739.csv 74.csv 740.csv 741.csv 742.csv 743.csv 744.csv 745.csv 746.csv 747.csv 748.csv 749.csv 750.csv 756.csv 757.csv 758.csv 759.csv 76.csv 763.csv 764.csv 767.csv 769.csv 77.csv 773.csv 775.csv 776.csv 777.csv 779.csv 78.csv 780.csv 781.csv 782.csv 784.csv 787.csv 789.csv 79.csv 790.csv 791.csv 794.csv 795.csv 796.csv 797.csv 798.csv 799.csv 8.csv 80.csv 800.csv 801.csv 804.csv 805.csv 806.csv 807.csv 808.csv 81.csv 810.csv 811.csv 813.csv 814.csv 815.csv 818.csv 819.csv 82.csv 820.csv 823.csv 824.csv 825.csv 826.csv 829.csv 83.csv 830.csv 831.csv 833.csv 834.csv 836.csv 839.csv 84.csv 841.csv 844.csv 845.csv 846.csv 848.csv 85.csv 850.csv 851.csv 852.csv 854.csv 855.csv 856.csv 857.csv 858.csv 859.csv 86.csv 860.csv 863.csv 864.csv 865.csv 866.csv 867.csv 869.csv 87.csv 871.csv 872.csv 873.csv 874.csv 876.csv 879.csv 88.csv 880.csv 882.csv 884.csv 886.csv 887.csv 889.csv 89.csv 890.csv 891.csv 892.csv 893.csv 897.csv 898.csv 899.csv 90.csv 902.csv 903.csv 904.csv 908.csv 909.csv 91.csv 910.csv 911.csv 913.csv 915.csv 92.csv 921.csv 924.csv 925.csv 926.csv 928.csv 93.csv 931.csv 932.csv 934.csv 936.csv 938.csv 939.csv 941.csv 942.csv 944.csv 945.csv 949.csv 95.csv 952.csv 954.csv 955.csv 956.csv 957.csv 958.csv 959.csv 96.csv 960.csv 961.csv 962.csv 964.csv 967.csv 968.csv 970.csv 973.csv 974.csv 976.csv 977.csv 978.csv 979.csv 98.csv 980.csv 981.csv 983.csv 985.csv 986.csv 987.csv 988.csv 989.csv 99.csv 990.csv 991.csv 993.csv 994.csv 995.csv 996.csv 997.csv 999.csv zNex~$hare2.csv "
     ]
    },
    {
     "ename": "Error",
     "evalue": "line contains NULL byte",
     "output_type": "error",
     "traceback": [
      "\u001b[1;31m---------------------------------------------------------------------------\u001b[0m",
      "\u001b[1;31mError\u001b[0m                                     Traceback (most recent call last)",
      "\u001b[1;32m<ipython-input-2-d11d5c8dbafa>\u001b[0m in \u001b[0;36m<module>\u001b[1;34m\u001b[0m\n\u001b[0;32m     10\u001b[0m     \u001b[0mrdr\u001b[0m \u001b[1;33m=\u001b[0m \u001b[0mcsv\u001b[0m\u001b[1;33m.\u001b[0m\u001b[0mreader\u001b[0m\u001b[1;33m(\u001b[0m\u001b[0mf\u001b[0m\u001b[1;33m)\u001b[0m\u001b[1;33m\u001b[0m\u001b[1;33m\u001b[0m\u001b[0m\n\u001b[0;32m     11\u001b[0m     \u001b[0mi\u001b[0m\u001b[1;33m=\u001b[0m\u001b[1;36m1\u001b[0m\u001b[1;33m\u001b[0m\u001b[1;33m\u001b[0m\u001b[0m\n\u001b[1;32m---> 12\u001b[1;33m     \u001b[1;32mfor\u001b[0m \u001b[0mline\u001b[0m \u001b[1;32min\u001b[0m \u001b[0mrdr\u001b[0m\u001b[1;33m:\u001b[0m\u001b[1;33m\u001b[0m\u001b[1;33m\u001b[0m\u001b[0m\n\u001b[0m\u001b[0;32m     13\u001b[0m         \u001b[1;32mif\u001b[0m \u001b[1;36m32\u001b[0m \u001b[1;33m<=\u001b[0m \u001b[0mi\u001b[0m \u001b[1;33m<=\u001b[0m\u001b[1;36m61\u001b[0m\u001b[1;33m:\u001b[0m\u001b[1;33m\u001b[0m\u001b[1;33m\u001b[0m\u001b[0m\n\u001b[0;32m     14\u001b[0m             \u001b[0mli\u001b[0m\u001b[1;33m=\u001b[0m\u001b[0mline\u001b[0m\u001b[1;33m[\u001b[0m\u001b[1;36m0\u001b[0m\u001b[1;33m]\u001b[0m\u001b[1;33m.\u001b[0m\u001b[0msplit\u001b[0m\u001b[1;33m(\u001b[0m\u001b[1;34m';'\u001b[0m\u001b[1;33m)\u001b[0m\u001b[1;33m\u001b[0m\u001b[1;33m\u001b[0m\u001b[0m\n",
      "\u001b[1;31mError\u001b[0m: line contains NULL byte"
     ]
    }
   ],
   "source": [
    "# feature 가져오기\n",
    "from sklearn.preprocessing import normalize\n",
    "feature=[]\n",
    "a=1;\n",
    "for filename in os.listdir(f'C:/Users/YOU-DB/Desktop/features/features'):\n",
    "    f=open(f'C:/Users/YOU-DB/Desktop/features/features/{filename}')\n",
    "    print(filename,end=' ')\n",
    "    fea=[]\n",
    "    li=[]\n",
    "    rdr = csv.reader(f)\n",
    "    i=1\n",
    "    for line in rdr:\n",
    "        if 32 <= i <=61:\n",
    "            li=line[0].split(';')\n",
    "            li = list(map(float, li))\n",
    "            del li[0]\n",
    "            fea.append(li)\n",
    "        i+=1\n",
    "    f.close()\n",
    "    fea = normalize(fea, axis=0, norm='max')\n",
    "    #fea= fea / np.linalg.norm(fea, axis=1, keepdims=True)\n",
    "    feature.append(fea)\n",
    "    #if a==500:\n",
    "        #break\n",
    "    #a+=1"
   ]
  },
  {
   "cell_type": "code",
   "execution_count": 3,
   "metadata": {},
   "outputs": [
    {
     "data": {
      "text/plain": [
       "(1802, 30, 260)"
      ]
     },
     "execution_count": 3,
     "metadata": {},
     "output_type": "execute_result"
    }
   ],
   "source": [
    "featured=np.array(feature,np.float32)\n",
    "featured.shape"
   ]
  },
  {
   "cell_type": "code",
   "execution_count": null,
   "metadata": {
    "scrolled": true
   },
   "outputs": [],
   "source": [
    "# mel-spec 가져오기\n",
    "import librosa.display\n",
    "frame_length = 0.025\n",
    "frame_stride = 0.04\n",
    "mel=[]\n",
    "\n",
    "i=1;\n",
    "for filename in os.listdir(f'C:/Users/YOU-DB/Desktop/DEAM_audio/MEMD_audio'):\n",
    "    songname = f'C:/Users/YOU-DB/Desktop/DEAM_audio/MEMD_audio/{filename}'\n",
    "    y, sr = librosa.load(songname, mono=True, duration=5)\n",
    "    input_nfft = int(round(sr*frame_length))\n",
    "    input_stride = int(round(sr*frame_stride))\n",
    "    #spec=librosa.feature.melspectrogram(y=y, n_mels=40, n_fft=input_nfft, hop_length=input_stride)\n",
    "    \n",
    "    #plt.figure(figsize=(1,1))\n",
    "    #librosa.display.specshow(librosa.power_to_db(spec, ref=np.max),sr=sr, hop_length=input_stride)\n",
    "    #plt.tight_layout()\n",
    "    #plt.axis('off'), plt.xticks([]), plt.yticks([])\n",
    "    #plt.subplots_adjust(left = 0, bottom = 0, right = 1, top = 1, hspace = 0, wspace = 0)\n",
    "    #plt.savefig(f'mel_img_data/{filename[:-3].replace(\".\", \"\")}.png',bbox_inces='tight', pad_inches=0, dpi=100)\n",
    "    mel.append(librosa.feature.melspectrogram(y=y, n_mels=40, n_fft=input_nfft, hop_length=input_stride))"
   ]
  },
  {
   "cell_type": "code",
   "execution_count": null,
   "metadata": {},
   "outputs": [],
   "source": [
    "mel=np.array(mel)\n",
    "mel.shape"
   ]
  },
  {
   "cell_type": "code",
   "execution_count": null,
   "metadata": {},
   "outputs": [],
   "source": [
    "#이미지 파일 가져오기\n",
    "import PIL.Image as pilimg\n",
    "img=[]\n",
    "for filename in os.listdir(f'C:/Users/YOU-DB/Code/git/Capstone-Design/sentiment-analysis/mel_img_data'):\n",
    "    img=pilimg.open(f'C:/Users/YOU-DB/Code/git/Capstone-Design/sentiment-analysis/mel_img_data/{filename}')\n",
    "img=np.array(img)\n",
    "img.shape"
   ]
  },
  {
   "cell_type": "code",
   "execution_count": null,
   "metadata": {
    "scrolled": true
   },
   "outputs": [],
   "source": [
    "## mfcc값 가져오기\n",
    "test_mfccs=[]\n",
    "pad2d=lambda a, i: a[:, 0: i] if a.shape[1] > i else np.hstack((a, np.zeros(i-a.shape[0])))\n",
    "for filename in os.listdir(f'C:/Users/YOU-DB/Desktop/DEAM_audio/MEMD_audio'):\n",
    "    songname = f'C:/Users/YOU-DB/Desktop/DEAM_audio/MEMD_audio/{filename}'\n",
    "    y, sr = librosa.load(songname, mono=True, duration=5)\n",
    "    mfcc=librosa.feature.mfcc(y)\n",
    "    padded_mfcc=pad2d(mfcc,40)\n",
    "    test_mfccs.append(padded_mfcc)\n",
    "test_mfccs=np.array(test_mfccs)"
   ]
  },
  {
   "cell_type": "code",
   "execution_count": null,
   "metadata": {},
   "outputs": [],
   "source": [
    "test_mfccs.shape"
   ]
  },
  {
   "cell_type": "code",
   "execution_count": null,
   "metadata": {},
   "outputs": [],
   "source": [
    "#data파일 header 쓰기\n",
    "header = 'filename chroma_stft rmse spectral_centroid spectral_bandwidth rolloff zero_crossing_rate'\n",
    "for i in range(1, 21):\n",
    "    header += f' mfcc{i}'\n",
    "header += ' label'\n",
    "header = header.split()"
   ]
  },
  {
   "cell_type": "code",
   "execution_count": 4,
   "metadata": {},
   "outputs": [],
   "source": [
    "#파일의 arousal, valence 값 가져와서 배열에 저장\n",
    "f = open('C:/Users/YOU-DB/Desktop/DEAM_Annotations/annotations/annotations averaged per song/song_level/static_annotations_averaged_songs_1_2000.csv','r')\n",
    "rdr = csv.reader(f)\n",
    "\n",
    "id=[]\n",
    "pre_ars=[]\n",
    "pre_val=[]\n",
    "i=0\n",
    "for line in rdr:\n",
    "    if(i!=0):\n",
    "        id.append(line[0])\n",
    "        pre_ars.append(float(line[1]))\n",
    "        pre_val.append(float(line[3]))\n",
    "    i=i+1\n",
    "f.close()"
   ]
  },
  {
   "cell_type": "code",
   "execution_count": 5,
   "metadata": {},
   "outputs": [
    {
     "data": {
      "image/png": "[encoded data removed]",
      "text/plain": [
       "<Figure size 432x288 with 1 Axes>"
      ]
     },
     "metadata": {
      "needs_background": "light"
     },
     "output_type": "display_data"
    }
   ],
   "source": [
    "# arousal, valence 정규화\n",
    "noars=[]\n",
    "noval=[]\n",
    "for ars in pre_ars:\n",
    "    noars.append((ars-((max(pre_ars)-min(pre_ars))/2+min(pre_ars)))/((max(pre_ars)-min(pre_ars))/2))\n",
    "for val in pre_val:\n",
    "    noval.append((val-((max(pre_val)-min(pre_val))/2+min(pre_val)))/((max(pre_val)-min(pre_val))/2))\n",
    "plt.xlabel('arousal')\n",
    "plt.ylabel('valence')\n",
    "for ars,val in zip(noars,noval):\n",
    "    plt.scatter(ars,val)"
   ]
  },
  {
   "cell_type": "code",
   "execution_count": null,
   "metadata": {
    "scrolled": true
   },
   "outputs": [],
   "source": [
    "# 정규화된 값 가지고 8가지 답 만들기\n",
    "emotions = 'light happy comfortable calm gloomy cry scary tense'.split()\n",
    "ans=[]\n",
    "cnt=[0 for i in range(8)]\n",
    "for ars,val in zip(noars,noval):\n",
    "    if ars>=0:\n",
    "        if val>=0:\n",
    "            if val>=ars:\n",
    "                ans.append(emotions[0])#경쾌한\n",
    "                cnt[0]+=1\n",
    "            else:\n",
    "                ans.append(emotions[1])#행복한\n",
    "                cnt[1]+=1\n",
    "        else:\n",
    "            if ars>=-val:\n",
    "                ans.append(emotions[2])#편안한\n",
    "                cnt[2]+=1\n",
    "            else:\n",
    "                ans.append(emotions[3])#잔잔한\n",
    "                cnt[3]+=1\n",
    "    else:\n",
    "        if val<=0:\n",
    "            if -val>=-ars:\n",
    "                ans.append(emotions[4])#우울한\n",
    "                cnt[4]+=1\n",
    "            else:\n",
    "                ans.append(emotions[5])#울고싶은\n",
    "                cnt[5]+=1\n",
    "        else:\n",
    "            if -ars>=val:\n",
    "                ans.append(emotions[6])#무서운\n",
    "                cnt[6]+=1\n",
    "            else:\n",
    "                ans.append(emotions[7])#긴장되는\n",
    "                cnt[7]+=1\n",
    "print(ans) "
   ]
  },
  {
   "cell_type": "code",
   "execution_count": 6,
   "metadata": {},
   "outputs": [],
   "source": [
    "# 정규화된 값 가지고 4가지 답 만들기\n",
    "emotions = 'light happy comfortable calm gloomy cry scary tense'.split()\n",
    "ans1=[]\n",
    "ans2=[]\n",
    "ans3=[]\n",
    "ans4=[]\n",
    "cnt=[0 for i in range(8)]\n",
    "for ars,val in zip(noars,noval):\n",
    "    if ars>=0:\n",
    "        if val>=0:\n",
    "            ans1.append(emotions[0])#경쾌한\n",
    "            ans2.append('N')\n",
    "            ans3.append('N')\n",
    "            ans4.append('N')\n",
    "        else:\n",
    "            ans1.append('N')\n",
    "            ans2.append(emotions[2])#편안한\n",
    "            ans3.append('N')\n",
    "            ans4.append('N')\n",
    "    else:\n",
    "        if val<=0:\n",
    "            ans1.append('N')\n",
    "            ans2.append('N')\n",
    "            ans3.append(emotions[4])#우울한\n",
    "            ans4.append('N')\n",
    "        else:\n",
    "            ans1.append('N')\n",
    "            ans2.append('N')\n",
    "            ans3.append('N')\n",
    "            ans4.append(emotions[6])#무서운"
   ]
  },
  {
   "cell_type": "code",
   "execution_count": null,
   "metadata": {
    "scrolled": true
   },
   "outputs": [],
   "source": [
    "#data파일 분석 값 쓰기\n",
    "file = open('data.csv', 'w', newline='')\n",
    "with file:\n",
    "    writer = csv.writer(file)\n",
    "    writer.writerow(header)\n",
    "for filename in os.listdir(f'C:/Users/YOU-DB/Desktop/DEAM_audio/MEMD_audio'):\n",
    "    songname = f'C:/Users/YOU-DB/Desktop/DEAM_audio/MEMD_audio/{filename}'\n",
    "    y, sr = librosa.load(songname, mono=True, duration=30)\n",
    "    chroma_stft = librosa.feature.chroma_stft(y=y, sr=sr)\n",
    "    rmse = librosa.feature.rmse(y=y)\n",
    "    spec_cent = librosa.feature.spectral_centroid(y=y, sr=sr)\n",
    "    spec_bw = librosa.feature.spectral_bandwidth(y=y, sr=sr)\n",
    "    rolloff = librosa.feature.spectral_rolloff(y=y, sr=sr)\n",
    "    zcr = librosa.feature.zero_crossing_rate(y)\n",
    "    mfcc = librosa.feature.mfcc(y=y, sr=sr)\n",
    "    to_append = f'{filename[:-4]} {np.mean(chroma_stft)} {np.mean(rmse)} {np.mean(spec_cent)} {np.mean(spec_bw)} {np.mean(rolloff)} {np.mean(zcr)}'    \n",
    "    for e in mfcc:\n",
    "        to_append += f' {np.mean(e)}'\n",
    "    i=0\n",
    "    for ids in id:\n",
    "        if ids==filename[:-4]:\n",
    "            to_append += f' {ans[i]}'\n",
    "            break\n",
    "        i+=1           \n",
    "    #to_append += f' {g}'\n",
    "    file = open('data.csv', 'a', newline='')\n",
    "    with file:\n",
    "        writer = csv.writer(file)\n",
    "        writer.writerow(to_append.split())\n",
    "    print(filename[:-4],end=\" \")"
   ]
  },
  {
   "cell_type": "code",
   "execution_count": null,
   "metadata": {},
   "outputs": [],
   "source": [
    "data = pd.read_csv('data.csv')\n",
    "data.head()"
   ]
  },
  {
   "cell_type": "code",
   "execution_count": null,
   "metadata": {},
   "outputs": [],
   "source": [
    "data=data.drop(['filename'],axis=1)"
   ]
  },
  {
   "cell_type": "code",
   "execution_count": null,
   "metadata": {},
   "outputs": [],
   "source": [
    "#genre_list = data.iloc[:, -1]\n",
    "encoder = LabelEncoder()\n",
    "y = encoder.fit_transform(ans1)"
   ]
  },
  {
   "cell_type": "code",
   "execution_count": null,
   "metadata": {},
   "outputs": [],
   "source": [
    "scaler = StandardScaler()\n",
    "X = scaler.fit_transform(np.array(data.iloc[:, :-1], dtype = float))"
   ]
  },
  {
   "cell_type": "code",
   "execution_count": 7,
   "metadata": {},
   "outputs": [
    {
     "data": {
      "text/plain": [
       "(1802, 30, 260, 1)"
      ]
     },
     "execution_count": 7,
     "metadata": {},
     "output_type": "execute_result"
    }
   ],
   "source": [
    "##\n",
    "##test_X_ex=np.expand_dims(test_mfccs,-1)\n",
    "#X_train = test_mfccs.reshape((test_mfccs.shape[0], test_mfccs.shape[1], test_mfccs.shape[2], 1))\n",
    "X = featured.reshape((featured.shape[0], featured.shape[1], featured.shape[2], 1))\n",
    "X.shape"
   ]
  },
  {
   "cell_type": "code",
   "execution_count": 8,
   "metadata": {},
   "outputs": [
    {
     "data": {
      "text/plain": [
       "(1802, 2)"
      ]
     },
     "execution_count": 8,
     "metadata": {},
     "output_type": "execute_result"
    }
   ],
   "source": [
    "##\n",
    "from tensorflow.keras.utils import to_categorical\n",
    "encoder = LabelEncoder()\n",
    "y = encoder.fit_transform(ans1)\n",
    "y=to_categorical(y)\n",
    "y.shape"
   ]
  },
  {
   "cell_type": "markdown",
   "metadata": {},
   "source": [
    "## Dividing data into training and Testing set"
   ]
  },
  {
   "cell_type": "code",
   "execution_count": 9,
   "metadata": {},
   "outputs": [],
   "source": [
    "X_train, X_test, y_train, y_test = train_test_split(X, y, test_size=0.2, shuffle=False)"
   ]
  },
  {
   "cell_type": "code",
   "execution_count": 10,
   "metadata": {},
   "outputs": [
    {
     "name": "stdout",
     "output_type": "stream",
     "text": [
      "(1441, 30, 260, 1) (361, 30, 260, 1) (1441, 2) (361, 2)\n"
     ]
    }
   ],
   "source": [
    "print(X_train.shape, X_test.shape, y_train.shape, y_test.shape)"
   ]
  },
  {
   "cell_type": "code",
   "execution_count": 11,
   "metadata": {},
   "outputs": [
    {
     "data": {
      "text/plain": [
       "1441"
      ]
     },
     "execution_count": 11,
     "metadata": {},
     "output_type": "execute_result"
    }
   ],
   "source": [
    "len(y_train)"
   ]
  },
  {
   "cell_type": "code",
   "execution_count": 12,
   "metadata": {},
   "outputs": [
    {
     "data": {
      "text/plain": [
       "361"
      ]
     },
     "execution_count": 12,
     "metadata": {},
     "output_type": "execute_result"
    }
   ],
   "source": [
    "len(y_test)"
   ]
  },
  {
   "cell_type": "markdown",
   "metadata": {},
   "source": [
    "## Classification with Keras"
   ]
  },
  {
   "cell_type": "markdown",
   "metadata": {},
   "source": [
    "### 1. Using CNN"
   ]
  },
  {
   "cell_type": "code",
   "execution_count": 16,
   "metadata": {
    "scrolled": true
   },
   "outputs": [
    {
     "name": "stdout",
     "output_type": "stream",
     "text": [
      "Model: \"sequential_2\"\n",
      "_________________________________________________________________\n",
      "Layer (type)                 Output Shape              Param #   \n",
      "=================================================================\n",
      "conv2d_7 (Conv2D)            (None, 30, 260, 64)       640       \n",
      "_________________________________________________________________\n",
      "conv2d_8 (Conv2D)            (None, 30, 260, 64)       36928     \n",
      "_________________________________________________________________\n",
      "max_pooling2d_4 (MaxPooling2 (None, 15, 130, 64)       0         \n",
      "_________________________________________________________________\n",
      "conv2d_9 (Conv2D)            (None, 15, 130, 32)       18464     \n",
      "_________________________________________________________________\n",
      "conv2d_10 (Conv2D)           (None, 15, 130, 32)       9248      \n",
      "_________________________________________________________________\n",
      "max_pooling2d_5 (MaxPooling2 (None, 7, 65, 32)         0         \n",
      "_________________________________________________________________\n",
      "conv2d_11 (Conv2D)           (None, 7, 65, 16)         4624      \n",
      "_________________________________________________________________\n",
      "conv2d_12 (Conv2D)           (None, 7, 65, 16)         2320      \n",
      "_________________________________________________________________\n",
      "max_pooling2d_6 (MaxPooling2 (None, 3, 32, 16)         0         \n",
      "_________________________________________________________________\n",
      "flatten_2 (Flatten)          (None, 1536)              0         \n",
      "_________________________________________________________________\n",
      "dense_3 (Dense)              (None, 32)                49184     \n",
      "_________________________________________________________________\n",
      "dense_4 (Dense)              (None, 2)                 66        \n",
      "_________________________________________________________________\n",
      "activation_2 (Activation)    (None, 2)                 0         \n",
      "=================================================================\n",
      "Total params: 121,474\n",
      "Trainable params: 121,474\n",
      "Non-trainable params: 0\n",
      "_________________________________________________________________\n"
     ]
    }
   ],
   "source": [
    "from keras import models\n",
    "from keras import layers\n",
    "from keras import optimizers, regularizers\n",
    "from keras.layers import Dense, Activation, Flatten, Conv2D, MaxPooling2D\n",
    "from keras.layers import BatchNormalization, Dropout\n",
    "from keras import Input\n",
    "from keras.engine import Model\n",
    "\n",
    "model = models.Sequential()\n",
    "\n",
    "model.add(Conv2D(64, (3, 3), input_shape = (X_train.shape[1], X_train.shape[2], X_train.shape[3]), activation='relu',\n",
    "                 padding='same', kernel_initializer='he_normal', kernel_regularizer=regularizers.l2(0.01)))\n",
    "model.add(Conv2D(64, (3, 3), activation='relu', padding='same', kernel_initializer='he_normal', \n",
    "                 kernel_regularizer=regularizers.l2(0.01)))\n",
    "model.add(MaxPooling2D(pool_size=(2, 2)))\n",
    "\n",
    "model.add(Conv2D(32, (3, 3), input_shape = (X_train.shape[1], X_train.shape[2], X_train.shape[3]), activation='relu',\n",
    "                 padding='same', kernel_initializer='he_normal', kernel_regularizer=regularizers.l2(0.01)))\n",
    "model.add(Conv2D(32, (3, 3), activation='relu', padding='same', kernel_initializer='he_normal', \n",
    "                 kernel_regularizer=regularizers.l2(0.01)))\n",
    "model.add(MaxPooling2D(pool_size=(2, 2)))\n",
    "\n",
    "model.add(Conv2D(16, (3, 3), input_shape = (X_train.shape[1], X_train.shape[2], X_train.shape[3]), activation='relu',\n",
    "                 padding='same', kernel_initializer='he_normal', kernel_regularizer=regularizers.l2(0.01)))\n",
    "model.add(Conv2D(16, (3, 3), activation='relu', padding='same', kernel_initializer='he_normal', \n",
    "                 kernel_regularizer=regularizers.l2(0.01)))\n",
    "model.add(MaxPooling2D(pool_size=(2, 2)))\n",
    "\n",
    "\n",
    "model.add(Flatten())  # 이전 CNN 레이어에서 나온 3차원 배열은 1차원으로 뽑아줍니다)\n",
    "model.add(Dense(32, activation = 'relu', kernel_initializer='he_normal'))\n",
    "#model.add(Dropout(0.2))\n",
    "model.add(Dense(2,kernel_initializer='he_normal'))\n",
    "model.add(Activation('sigmoid'))\n",
    "\n",
    "model.summary()"
   ]
  },
  {
   "cell_type": "code",
   "execution_count": 17,
   "metadata": {},
   "outputs": [],
   "source": [
    "#model.compile(loss = 'categorical_crossentropy', optimizer ='adam', metrics = ['accuracy'])\n",
    "model.compile(loss = 'binary_crossentropy', optimizer = optimizers.Adam(lr = 0.001), metrics = ['acc'])"
   ]
  },
  {
   "cell_type": "code",
   "execution_count": null,
   "metadata": {
    "scrolled": true
   },
   "outputs": [
    {
     "name": "stdout",
     "output_type": "stream",
     "text": [
      "Train on 1441 samples, validate on 361 samples\n",
      "Epoch 1/100\n",
      "1441/1441 [==============================] - 30s 21ms/step - loss: 3.6998 - acc: 0.6301 - val_loss: 3.6834 - val_acc: 0.6427\n",
      "Epoch 2/100\n",
      "1441/1441 [==============================] - 31s 22ms/step - loss: 3.6810 - acc: 0.6301 - val_loss: 3.6646 - val_acc: 0.6427\n",
      "Epoch 3/100\n",
      "1441/1441 [==============================] - 30s 21ms/step - loss: 3.6621 - acc: 0.6301 - val_loss: 3.6457 - val_acc: 0.6427\n",
      "Epoch 4/100\n",
      "1441/1441 [==============================] - 32s 22ms/step - loss: 3.6433 - acc: 0.6301 - val_loss: 3.6268 - val_acc: 0.6427\n",
      "Epoch 5/100\n",
      "1190/1441 [=======================>......] - ETA: 4s - loss: 3.6268 - acc: 0.6286"
     ]
    }
   ],
   "source": [
    "history = model.fit(X_train, y_train, batch_size = 35, epochs = 100, validation_data=(X_test, y_test))"
   ]
  },
  {
   "cell_type": "code",
   "execution_count": null,
   "metadata": {
    "scrolled": true
   },
   "outputs": [],
   "source": [
    "model.save_weights('conv6.h5')\n",
    "#model.save_weights('batch2.h5')"
   ]
  },
  {
   "cell_type": "code",
   "execution_count": 19,
   "metadata": {
    "scrolled": false
   },
   "outputs": [
    {
     "data": {
      "image/png": "[encoded data removed]",
      "text/plain": [
       "<Figure size 432x288 with 1 Axes>"
      ]
     },
     "metadata": {
      "needs_background": "light"
     },
     "output_type": "display_data"
    }
   ],
   "source": [
    "plt.plot(history.history['acc'])\n",
    "plt.plot(history.history['val_acc'])\n",
    "plt.legend(['training', 'validation'], loc = 'upper left')\n",
    "plt.show()"
   ]
  },
  {
   "cell_type": "code",
   "execution_count": null,
   "metadata": {
    "scrolled": true
   },
   "outputs": [],
   "source": [
    "test_loss, test_acc = model.evaluate(X_test,y_test)"
   ]
  },
  {
   "cell_type": "code",
   "execution_count": null,
   "metadata": {},
   "outputs": [],
   "source": [
    "print('test_acc: ',test_acc)"
   ]
  },
  {
   "cell_type": "markdown",
   "metadata": {},
   "source": [
    "### 2. Using LinearSVC"
   ]
  },
  {
   "cell_type": "code",
   "execution_count": null,
   "metadata": {},
   "outputs": [],
   "source": [
    "from sklearn.svm import LinearSVC\n",
    "\n",
    "model = LinearSVC(C=1)\n",
    "model.fit(X_train, y_train)"
   ]
  },
  {
   "cell_type": "code",
   "execution_count": null,
   "metadata": {},
   "outputs": [],
   "source": [
    "score = model.score(X_train, y_train)\n",
    "print(score)"
   ]
  },
  {
   "cell_type": "code",
   "execution_count": null,
   "metadata": {},
   "outputs": [],
   "source": [
    "print('test_acc: ',clf.score(X_test,y_test))"
   ]
  },
  {
   "cell_type": "markdown",
   "metadata": {},
   "source": [
    "### 3. Using KNeighbors Classifier"
   ]
  },
  {
   "cell_type": "code",
   "execution_count": null,
   "metadata": {},
   "outputs": [],
   "source": [
    "from sklearn.neighbors import KNeighborsClassifier\n",
    "clf = KNeighborsClassifier(n_neighbors=6)\n",
    "clf.fit(X_train, y_train)"
   ]
  },
  {
   "cell_type": "code",
   "execution_count": null,
   "metadata": {},
   "outputs": [],
   "source": [
    "score = clf.score(X_train, y_train)\n",
    "print(score)"
   ]
  },
  {
   "cell_type": "code",
   "execution_count": null,
   "metadata": {},
   "outputs": [],
   "source": [
    "print('test_acc: ',clf.score(X_test,y_test))"
   ]
  },
  {
   "cell_type": "code",
   "execution_count": null,
   "metadata": {},
   "outputs": [],
   "source": []
  }
 ],
 "metadata": {
  "kernelspec": {
   "display_name": "Python 3",
   "language": "python",
   "name": "python3"
  },
  "language_info": {
   "codemirror_mode": {
    "name": "ipython",
    "version": 3
   },
   "file_extension": ".py",
   "mimetype": "text/x-python",
   "name": "python",
   "nbconvert_exporter": "python",
   "pygments_lexer": "ipython3",
   "version": "3.7.4"
  }
 },
 "nbformat": 4,
 "nbformat_minor": 2
}
