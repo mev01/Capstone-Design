{
 "cells": [
  {
   "cell_type": "code",
   "execution_count": null,
   "metadata": {},
   "outputs": [],
   "source": [
    "def api_request(text) :\n",
    "    import requests as req\n",
    "    from bs4 import BeautifulSoup as bs\n",
    "\n",
    "    base_url = \"http://api.adams.ai/datamixiApi/omAnalysis?\"\n",
    "    query = text\n",
    "    typenum = \"1\"   # 0: 감성분석 1: 감정분석\n",
    "    api_key = \"5822191715634620752\" # api key\n",
    "\n",
    "    res = req.get(base_url, params={'query':query, 'type':typenum, 'key':api_key})\n",
    "    html = bs(res.text, 'html.parser')\n",
    "    \n",
    "    result = html.text.split(',')\n",
    "    sentiment = result[7].split('\"')[1]  # 감정\n",
    "    score = result[6].split('[')[2]      # 분석 정확도\n",
    "    result_code = result[-1].split('\"')[3]   # 에러 여부\n",
    "\n",
    "    print(\"분석 문장 : {}, status : {}, sentiment : {}, score : {}\".format(query,result_code,sentiment,score))\n",
    "    return sentiment"
   ]
  },
  {
   "cell_type": "code",
   "execution_count": null,
   "metadata": {},
   "outputs": [],
   "source": []
  }
 ],
 "metadata": {
  "kernelspec": {
   "display_name": "Python 3",
   "language": "python",
   "name": "python3"
  },
  "language_info": {
   "codemirror_mode": {
    "name": "ipython",
    "version": 3
   },
   "file_extension": ".py",
   "mimetype": "text/x-python",
   "name": "python",
   "nbconvert_exporter": "python",
   "pygments_lexer": "ipython3",
   "version": "3.7.4"
  }
 },
 "nbformat": 4,
 "nbformat_minor": 4
}
